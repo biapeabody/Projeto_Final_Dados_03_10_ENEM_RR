{
  "nbformat": 4,
  "nbformat_minor": 0,
  "metadata": {
    "colab": {
      "provenance": [],
      "include_colab_link": true
    },
    "kernelspec": {
      "name": "python3",
      "display_name": "Python 3"
    },
    "language_info": {
      "name": "python"
    }
  },
  "cells": [
    {
      "cell_type": "markdown",
      "metadata": {
        "id": "view-in-github",
        "colab_type": "text"
      },
      "source": [
        "<a href=\"https://colab.research.google.com/github/biapeabody/Projeto_Final_Dados_03_10_ENEM_RR/blob/main/2_Notebooks_Colab/Enem2019.ipynb\" target=\"_parent\"><img src=\"https://colab.research.google.com/assets/colab-badge.svg\" alt=\"Open In Colab\"/></a>"
      ]
    },
    {
      "cell_type": "markdown",
      "source": [
        "# **Bibliotecas**"
      ],
      "metadata": {
        "id": "GhXEPRGIijir"
      }
    },
    {
      "cell_type": "code",
      "execution_count": null,
      "metadata": {
        "id": "l1OxuPbgiQGM"
      },
      "outputs": [],
      "source": [
        "import matplotlib.pyplot as plt\n",
        "import pandas as pd"
      ]
    },
    {
      "cell_type": "code",
      "source": [
        "from google.colab import drive\n",
        "drive.mount('/content/drive')"
      ],
      "metadata": {
        "colab": {
          "base_uri": "https://localhost:8080/"
        },
        "id": "850OvshOiq21",
        "outputId": "acdc3e27-018a-4242-dde5-4edd723b6f92"
      },
      "execution_count": null,
      "outputs": [
        {
          "output_type": "stream",
          "name": "stdout",
          "text": [
            "Drive already mounted at /content/drive; to attempt to forcibly remount, call drive.mount(\"/content/drive\", force_remount=True).\n"
          ]
        }
      ]
    },
    {
      "cell_type": "code",
      "source": [
        "caminho = '/content/drive/My Drive/Dados_2019/enem2019_rrr_limpo.csv'\n",
        "\n",
        "df = pd.read_csv(caminho, sep=';', encoding='latin1')\n",
        "\n",
        "df.head()"
      ],
      "metadata": {
        "colab": {
          "base_uri": "https://localhost:8080/",
          "height": 365
        },
        "id": "CmkSwua7jHLA",
        "outputId": "571b7b56-7ec0-40b4-b8cc-fee5ec2e6965"
      },
      "execution_count": null,
      "outputs": [
        {
          "output_type": "execute_result",
          "data": {
            "text/plain": [
              "      inscricao   ano        faixa_etaria sexo  \\\n",
              "0  190001037377  2019             25 anos    F   \n",
              "1  190001037378  2019             17 anos    M   \n",
              "2  190001037379  2019             18 anos    F   \n",
              "3  190001037380  2019  Entre 26 e 30 anos    M   \n",
              "4  190001037381  2019  Entre 26 e 30 anos    F   \n",
              "\n",
              "                        estado_civil cor_raca  \\\n",
              "0                        Solteiro(a)    Parda   \n",
              "1                        Solteiro(a)    Parda   \n",
              "2                        Solteiro(a)    Parda   \n",
              "3                        Solteiro(a)    Parda   \n",
              "4  Casado(a)/Mora com companheiro(a)    Parda   \n",
              "\n",
              "                                   nacionalidade     tipo_escola  \\\n",
              "0                                  Brasileiro(a)  NÃ£o Respondeu   \n",
              "1                                  Brasileiro(a)        PÃºblica   \n",
              "2  Brasileiro(a) Nato(a), nascido(a) no exterior        PÃºblica   \n",
              "3                                  Brasileiro(a)  NÃ£o Respondeu   \n",
              "4                                  Brasileiro(a)  NÃ£o Respondeu   \n",
              "\n",
              "      tipo_ensino treineiro municipio_prova uf_prova dependencia_adm_escola  \\\n",
              "0  Ensino Regular      NÃ£o       Boa Vista       RR                    NaN   \n",
              "1  Ensino Regular      NÃ£o       Boa Vista       RR               Estadual   \n",
              "2  Ensino Regular      NÃ£o       Boa Vista       RR               Estadual   \n",
              "3             NaN      NÃ£o       Boa Vista       RR                    NaN   \n",
              "4             NaN      NÃ£o       Boa Vista       RR                    NaN   \n",
              "\n",
              "  localizacao_escola  \n",
              "0                NaN  \n",
              "1             Urbana  \n",
              "2             Urbana  \n",
              "3                NaN  \n",
              "4                NaN  "
            ],
            "text/html": [
              "\n",
              "  <div id=\"df-2596ac90-abd9-4808-84c4-bebcf88b4a45\" class=\"colab-df-container\">\n",
              "    <div>\n",
              "<style scoped>\n",
              "    .dataframe tbody tr th:only-of-type {\n",
              "        vertical-align: middle;\n",
              "    }\n",
              "\n",
              "    .dataframe tbody tr th {\n",
              "        vertical-align: top;\n",
              "    }\n",
              "\n",
              "    .dataframe thead th {\n",
              "        text-align: right;\n",
              "    }\n",
              "</style>\n",
              "<table border=\"1\" class=\"dataframe\">\n",
              "  <thead>\n",
              "    <tr style=\"text-align: right;\">\n",
              "      <th></th>\n",
              "      <th>inscricao</th>\n",
              "      <th>ano</th>\n",
              "      <th>faixa_etaria</th>\n",
              "      <th>sexo</th>\n",
              "      <th>estado_civil</th>\n",
              "      <th>cor_raca</th>\n",
              "      <th>nacionalidade</th>\n",
              "      <th>tipo_escola</th>\n",
              "      <th>tipo_ensino</th>\n",
              "      <th>treineiro</th>\n",
              "      <th>municipio_prova</th>\n",
              "      <th>uf_prova</th>\n",
              "      <th>dependencia_adm_escola</th>\n",
              "      <th>localizacao_escola</th>\n",
              "    </tr>\n",
              "  </thead>\n",
              "  <tbody>\n",
              "    <tr>\n",
              "      <th>0</th>\n",
              "      <td>190001037377</td>\n",
              "      <td>2019</td>\n",
              "      <td>25 anos</td>\n",
              "      <td>F</td>\n",
              "      <td>Solteiro(a)</td>\n",
              "      <td>Parda</td>\n",
              "      <td>Brasileiro(a)</td>\n",
              "      <td>NÃ£o Respondeu</td>\n",
              "      <td>Ensino Regular</td>\n",
              "      <td>NÃ£o</td>\n",
              "      <td>Boa Vista</td>\n",
              "      <td>RR</td>\n",
              "      <td>NaN</td>\n",
              "      <td>NaN</td>\n",
              "    </tr>\n",
              "    <tr>\n",
              "      <th>1</th>\n",
              "      <td>190001037378</td>\n",
              "      <td>2019</td>\n",
              "      <td>17 anos</td>\n",
              "      <td>M</td>\n",
              "      <td>Solteiro(a)</td>\n",
              "      <td>Parda</td>\n",
              "      <td>Brasileiro(a)</td>\n",
              "      <td>PÃºblica</td>\n",
              "      <td>Ensino Regular</td>\n",
              "      <td>NÃ£o</td>\n",
              "      <td>Boa Vista</td>\n",
              "      <td>RR</td>\n",
              "      <td>Estadual</td>\n",
              "      <td>Urbana</td>\n",
              "    </tr>\n",
              "    <tr>\n",
              "      <th>2</th>\n",
              "      <td>190001037379</td>\n",
              "      <td>2019</td>\n",
              "      <td>18 anos</td>\n",
              "      <td>F</td>\n",
              "      <td>Solteiro(a)</td>\n",
              "      <td>Parda</td>\n",
              "      <td>Brasileiro(a) Nato(a), nascido(a) no exterior</td>\n",
              "      <td>PÃºblica</td>\n",
              "      <td>Ensino Regular</td>\n",
              "      <td>NÃ£o</td>\n",
              "      <td>Boa Vista</td>\n",
              "      <td>RR</td>\n",
              "      <td>Estadual</td>\n",
              "      <td>Urbana</td>\n",
              "    </tr>\n",
              "    <tr>\n",
              "      <th>3</th>\n",
              "      <td>190001037380</td>\n",
              "      <td>2019</td>\n",
              "      <td>Entre 26 e 30 anos</td>\n",
              "      <td>M</td>\n",
              "      <td>Solteiro(a)</td>\n",
              "      <td>Parda</td>\n",
              "      <td>Brasileiro(a)</td>\n",
              "      <td>NÃ£o Respondeu</td>\n",
              "      <td>NaN</td>\n",
              "      <td>NÃ£o</td>\n",
              "      <td>Boa Vista</td>\n",
              "      <td>RR</td>\n",
              "      <td>NaN</td>\n",
              "      <td>NaN</td>\n",
              "    </tr>\n",
              "    <tr>\n",
              "      <th>4</th>\n",
              "      <td>190001037381</td>\n",
              "      <td>2019</td>\n",
              "      <td>Entre 26 e 30 anos</td>\n",
              "      <td>F</td>\n",
              "      <td>Casado(a)/Mora com companheiro(a)</td>\n",
              "      <td>Parda</td>\n",
              "      <td>Brasileiro(a)</td>\n",
              "      <td>NÃ£o Respondeu</td>\n",
              "      <td>NaN</td>\n",
              "      <td>NÃ£o</td>\n",
              "      <td>Boa Vista</td>\n",
              "      <td>RR</td>\n",
              "      <td>NaN</td>\n",
              "      <td>NaN</td>\n",
              "    </tr>\n",
              "  </tbody>\n",
              "</table>\n",
              "</div>\n",
              "    <div class=\"colab-df-buttons\">\n",
              "\n",
              "  <div class=\"colab-df-container\">\n",
              "    <button class=\"colab-df-convert\" onclick=\"convertToInteractive('df-2596ac90-abd9-4808-84c4-bebcf88b4a45')\"\n",
              "            title=\"Convert this dataframe to an interactive table.\"\n",
              "            style=\"display:none;\">\n",
              "\n",
              "  <svg xmlns=\"http://www.w3.org/2000/svg\" height=\"24px\" viewBox=\"0 -960 960 960\">\n",
              "    <path d=\"M120-120v-720h720v720H120Zm60-500h600v-160H180v160Zm220 220h160v-160H400v160Zm0 220h160v-160H400v160ZM180-400h160v-160H180v160Zm440 0h160v-160H620v160ZM180-180h160v-160H180v160Zm440 0h160v-160H620v160Z\"/>\n",
              "  </svg>\n",
              "    </button>\n",
              "\n",
              "  <style>\n",
              "    .colab-df-container {\n",
              "      display:flex;\n",
              "      gap: 12px;\n",
              "    }\n",
              "\n",
              "    .colab-df-convert {\n",
              "      background-color: #E8F0FE;\n",
              "      border: none;\n",
              "      border-radius: 50%;\n",
              "      cursor: pointer;\n",
              "      display: none;\n",
              "      fill: #1967D2;\n",
              "      height: 32px;\n",
              "      padding: 0 0 0 0;\n",
              "      width: 32px;\n",
              "    }\n",
              "\n",
              "    .colab-df-convert:hover {\n",
              "      background-color: #E2EBFA;\n",
              "      box-shadow: 0px 1px 2px rgba(60, 64, 67, 0.3), 0px 1px 3px 1px rgba(60, 64, 67, 0.15);\n",
              "      fill: #174EA6;\n",
              "    }\n",
              "\n",
              "    .colab-df-buttons div {\n",
              "      margin-bottom: 4px;\n",
              "    }\n",
              "\n",
              "    [theme=dark] .colab-df-convert {\n",
              "      background-color: #3B4455;\n",
              "      fill: #D2E3FC;\n",
              "    }\n",
              "\n",
              "    [theme=dark] .colab-df-convert:hover {\n",
              "      background-color: #434B5C;\n",
              "      box-shadow: 0px 1px 3px 1px rgba(0, 0, 0, 0.15);\n",
              "      filter: drop-shadow(0px 1px 2px rgba(0, 0, 0, 0.3));\n",
              "      fill: #FFFFFF;\n",
              "    }\n",
              "  </style>\n",
              "\n",
              "    <script>\n",
              "      const buttonEl =\n",
              "        document.querySelector('#df-2596ac90-abd9-4808-84c4-bebcf88b4a45 button.colab-df-convert');\n",
              "      buttonEl.style.display =\n",
              "        google.colab.kernel.accessAllowed ? 'block' : 'none';\n",
              "\n",
              "      async function convertToInteractive(key) {\n",
              "        const element = document.querySelector('#df-2596ac90-abd9-4808-84c4-bebcf88b4a45');\n",
              "        const dataTable =\n",
              "          await google.colab.kernel.invokeFunction('convertToInteractive',\n",
              "                                                    [key], {});\n",
              "        if (!dataTable) return;\n",
              "\n",
              "        const docLinkHtml = 'Like what you see? Visit the ' +\n",
              "          '<a target=\"_blank\" href=https://colab.research.google.com/notebooks/data_table.ipynb>data table notebook</a>'\n",
              "          + ' to learn more about interactive tables.';\n",
              "        element.innerHTML = '';\n",
              "        dataTable['output_type'] = 'display_data';\n",
              "        await google.colab.output.renderOutput(dataTable, element);\n",
              "        const docLink = document.createElement('div');\n",
              "        docLink.innerHTML = docLinkHtml;\n",
              "        element.appendChild(docLink);\n",
              "      }\n",
              "    </script>\n",
              "  </div>\n",
              "\n",
              "\n",
              "    <div id=\"df-883f2588-1f7c-4a8b-bb42-48bdb9329d27\">\n",
              "      <button class=\"colab-df-quickchart\" onclick=\"quickchart('df-883f2588-1f7c-4a8b-bb42-48bdb9329d27')\"\n",
              "                title=\"Suggest charts\"\n",
              "                style=\"display:none;\">\n",
              "\n",
              "<svg xmlns=\"http://www.w3.org/2000/svg\" height=\"24px\"viewBox=\"0 0 24 24\"\n",
              "     width=\"24px\">\n",
              "    <g>\n",
              "        <path d=\"M19 3H5c-1.1 0-2 .9-2 2v14c0 1.1.9 2 2 2h14c1.1 0 2-.9 2-2V5c0-1.1-.9-2-2-2zM9 17H7v-7h2v7zm4 0h-2V7h2v10zm4 0h-2v-4h2v4z\"/>\n",
              "    </g>\n",
              "</svg>\n",
              "      </button>\n",
              "\n",
              "<style>\n",
              "  .colab-df-quickchart {\n",
              "      --bg-color: #E8F0FE;\n",
              "      --fill-color: #1967D2;\n",
              "      --hover-bg-color: #E2EBFA;\n",
              "      --hover-fill-color: #174EA6;\n",
              "      --disabled-fill-color: #AAA;\n",
              "      --disabled-bg-color: #DDD;\n",
              "  }\n",
              "\n",
              "  [theme=dark] .colab-df-quickchart {\n",
              "      --bg-color: #3B4455;\n",
              "      --fill-color: #D2E3FC;\n",
              "      --hover-bg-color: #434B5C;\n",
              "      --hover-fill-color: #FFFFFF;\n",
              "      --disabled-bg-color: #3B4455;\n",
              "      --disabled-fill-color: #666;\n",
              "  }\n",
              "\n",
              "  .colab-df-quickchart {\n",
              "    background-color: var(--bg-color);\n",
              "    border: none;\n",
              "    border-radius: 50%;\n",
              "    cursor: pointer;\n",
              "    display: none;\n",
              "    fill: var(--fill-color);\n",
              "    height: 32px;\n",
              "    padding: 0;\n",
              "    width: 32px;\n",
              "  }\n",
              "\n",
              "  .colab-df-quickchart:hover {\n",
              "    background-color: var(--hover-bg-color);\n",
              "    box-shadow: 0 1px 2px rgba(60, 64, 67, 0.3), 0 1px 3px 1px rgba(60, 64, 67, 0.15);\n",
              "    fill: var(--button-hover-fill-color);\n",
              "  }\n",
              "\n",
              "  .colab-df-quickchart-complete:disabled,\n",
              "  .colab-df-quickchart-complete:disabled:hover {\n",
              "    background-color: var(--disabled-bg-color);\n",
              "    fill: var(--disabled-fill-color);\n",
              "    box-shadow: none;\n",
              "  }\n",
              "\n",
              "  .colab-df-spinner {\n",
              "    border: 2px solid var(--fill-color);\n",
              "    border-color: transparent;\n",
              "    border-bottom-color: var(--fill-color);\n",
              "    animation:\n",
              "      spin 1s steps(1) infinite;\n",
              "  }\n",
              "\n",
              "  @keyframes spin {\n",
              "    0% {\n",
              "      border-color: transparent;\n",
              "      border-bottom-color: var(--fill-color);\n",
              "      border-left-color: var(--fill-color);\n",
              "    }\n",
              "    20% {\n",
              "      border-color: transparent;\n",
              "      border-left-color: var(--fill-color);\n",
              "      border-top-color: var(--fill-color);\n",
              "    }\n",
              "    30% {\n",
              "      border-color: transparent;\n",
              "      border-left-color: var(--fill-color);\n",
              "      border-top-color: var(--fill-color);\n",
              "      border-right-color: var(--fill-color);\n",
              "    }\n",
              "    40% {\n",
              "      border-color: transparent;\n",
              "      border-right-color: var(--fill-color);\n",
              "      border-top-color: var(--fill-color);\n",
              "    }\n",
              "    60% {\n",
              "      border-color: transparent;\n",
              "      border-right-color: var(--fill-color);\n",
              "    }\n",
              "    80% {\n",
              "      border-color: transparent;\n",
              "      border-right-color: var(--fill-color);\n",
              "      border-bottom-color: var(--fill-color);\n",
              "    }\n",
              "    90% {\n",
              "      border-color: transparent;\n",
              "      border-bottom-color: var(--fill-color);\n",
              "    }\n",
              "  }\n",
              "</style>\n",
              "\n",
              "      <script>\n",
              "        async function quickchart(key) {\n",
              "          const quickchartButtonEl =\n",
              "            document.querySelector('#' + key + ' button');\n",
              "          quickchartButtonEl.disabled = true;  // To prevent multiple clicks.\n",
              "          quickchartButtonEl.classList.add('colab-df-spinner');\n",
              "          try {\n",
              "            const charts = await google.colab.kernel.invokeFunction(\n",
              "                'suggestCharts', [key], {});\n",
              "          } catch (error) {\n",
              "            console.error('Error during call to suggestCharts:', error);\n",
              "          }\n",
              "          quickchartButtonEl.classList.remove('colab-df-spinner');\n",
              "          quickchartButtonEl.classList.add('colab-df-quickchart-complete');\n",
              "        }\n",
              "        (() => {\n",
              "          let quickchartButtonEl =\n",
              "            document.querySelector('#df-883f2588-1f7c-4a8b-bb42-48bdb9329d27 button');\n",
              "          quickchartButtonEl.style.display =\n",
              "            google.colab.kernel.accessAllowed ? 'block' : 'none';\n",
              "        })();\n",
              "      </script>\n",
              "    </div>\n",
              "\n",
              "    </div>\n",
              "  </div>\n"
            ],
            "application/vnd.google.colaboratory.intrinsic+json": {
              "type": "dataframe",
              "variable_name": "df",
              "summary": "{\n  \"name\": \"df\",\n  \"rows\": 12956,\n  \"fields\": [\n    {\n      \"column\": \"inscricao\",\n      \"properties\": {\n        \"dtype\": \"number\",\n        \"std\": 1560719,\n        \"min\": 190001027841,\n        \"max\": 190006100223,\n        \"num_unique_values\": 12956,\n        \"samples\": [\n          190002001225,\n          190005096099,\n          190001033526\n        ],\n        \"semantic_type\": \"\",\n        \"description\": \"\"\n      }\n    },\n    {\n      \"column\": \"ano\",\n      \"properties\": {\n        \"dtype\": \"number\",\n        \"std\": 0,\n        \"min\": 2019,\n        \"max\": 2019,\n        \"num_unique_values\": 1,\n        \"samples\": [\n          2019\n        ],\n        \"semantic_type\": \"\",\n        \"description\": \"\"\n      }\n    },\n    {\n      \"column\": \"faixa_etaria\",\n      \"properties\": {\n        \"dtype\": \"category\",\n        \"num_unique_values\": 19,\n        \"samples\": [\n          \"25 anos\"\n        ],\n        \"semantic_type\": \"\",\n        \"description\": \"\"\n      }\n    },\n    {\n      \"column\": \"sexo\",\n      \"properties\": {\n        \"dtype\": \"category\",\n        \"num_unique_values\": 2,\n        \"samples\": [\n          \"M\"\n        ],\n        \"semantic_type\": \"\",\n        \"description\": \"\"\n      }\n    },\n    {\n      \"column\": \"estado_civil\",\n      \"properties\": {\n        \"dtype\": \"category\",\n        \"num_unique_values\": 5,\n        \"samples\": [\n          \"Casado(a)/Mora com companheiro(a)\"\n        ],\n        \"semantic_type\": \"\",\n        \"description\": \"\"\n      }\n    },\n    {\n      \"column\": \"cor_raca\",\n      \"properties\": {\n        \"dtype\": \"category\",\n        \"num_unique_values\": 6,\n        \"samples\": [\n          \"Parda\"\n        ],\n        \"semantic_type\": \"\",\n        \"description\": \"\"\n      }\n    },\n    {\n      \"column\": \"nacionalidade\",\n      \"properties\": {\n        \"dtype\": \"category\",\n        \"num_unique_values\": 5,\n        \"samples\": [\n          \"Brasileiro(a) Nato(a), nascido(a) no exterior\"\n        ],\n        \"semantic_type\": \"\",\n        \"description\": \"\"\n      }\n    },\n    {\n      \"column\": \"tipo_escola\",\n      \"properties\": {\n        \"dtype\": \"category\",\n        \"num_unique_values\": 3,\n        \"samples\": [\n          \"N\\u00c3\\u00a3o Respondeu\"\n        ],\n        \"semantic_type\": \"\",\n        \"description\": \"\"\n      }\n    },\n    {\n      \"column\": \"tipo_ensino\",\n      \"properties\": {\n        \"dtype\": \"category\",\n        \"num_unique_values\": 2,\n        \"samples\": [\n          \"Educa\\u00c3\\u00a7\\u00c3\\u00a3o Especial - Modalidade Substitutiva\"\n        ],\n        \"semantic_type\": \"\",\n        \"description\": \"\"\n      }\n    },\n    {\n      \"column\": \"treineiro\",\n      \"properties\": {\n        \"dtype\": \"category\",\n        \"num_unique_values\": 2,\n        \"samples\": [\n          \"Sim\"\n        ],\n        \"semantic_type\": \"\",\n        \"description\": \"\"\n      }\n    },\n    {\n      \"column\": \"municipio_prova\",\n      \"properties\": {\n        \"dtype\": \"category\",\n        \"num_unique_values\": 7,\n        \"samples\": [\n          \"Boa Vista\"\n        ],\n        \"semantic_type\": \"\",\n        \"description\": \"\"\n      }\n    },\n    {\n      \"column\": \"uf_prova\",\n      \"properties\": {\n        \"dtype\": \"category\",\n        \"num_unique_values\": 1,\n        \"samples\": [\n          \"RR\"\n        ],\n        \"semantic_type\": \"\",\n        \"description\": \"\"\n      }\n    },\n    {\n      \"column\": \"dependencia_adm_escola\",\n      \"properties\": {\n        \"dtype\": \"category\",\n        \"num_unique_values\": 4,\n        \"samples\": [\n          \"Federal\"\n        ],\n        \"semantic_type\": \"\",\n        \"description\": \"\"\n      }\n    },\n    {\n      \"column\": \"localizacao_escola\",\n      \"properties\": {\n        \"dtype\": \"category\",\n        \"num_unique_values\": 2,\n        \"samples\": [\n          \"Rural\"\n        ],\n        \"semantic_type\": \"\",\n        \"description\": \"\"\n      }\n    }\n  ]\n}"
            }
          },
          "metadata": {},
          "execution_count": 15
        }
      ]
    },
    {
      "cell_type": "code",
      "source": [
        "df.shape\n",
        "# (linhas, colunas)"
      ],
      "metadata": {
        "colab": {
          "base_uri": "https://localhost:8080/"
        },
        "id": "EAaT0CT6kUmb",
        "outputId": "6e33b942-ea53-4169-9eb0-ce54815862f2"
      },
      "execution_count": null,
      "outputs": [
        {
          "output_type": "execute_result",
          "data": {
            "text/plain": [
              "(12956, 14)"
            ]
          },
          "metadata": {},
          "execution_count": 16
        }
      ]
    },
    {
      "cell_type": "code",
      "source": [
        "df.info()\n",
        "# tipos de dados e se há valores nulos"
      ],
      "metadata": {
        "colab": {
          "base_uri": "https://localhost:8080/"
        },
        "id": "mkjymOG-kYU-",
        "outputId": "6829e398-2eae-4efa-e68f-325dac689e15"
      },
      "execution_count": null,
      "outputs": [
        {
          "output_type": "stream",
          "name": "stdout",
          "text": [
            "<class 'pandas.core.frame.DataFrame'>\n",
            "RangeIndex: 12956 entries, 0 to 12955\n",
            "Data columns (total 14 columns):\n",
            " #   Column                  Non-Null Count  Dtype \n",
            "---  ------                  --------------  ----- \n",
            " 0   inscricao               12956 non-null  int64 \n",
            " 1   ano                     12956 non-null  int64 \n",
            " 2   faixa_etaria            12956 non-null  object\n",
            " 3   sexo                    12956 non-null  object\n",
            " 4   estado_civil            12956 non-null  object\n",
            " 5   cor_raca                12956 non-null  object\n",
            " 6   nacionalidade           12956 non-null  object\n",
            " 7   tipo_escola             12956 non-null  object\n",
            " 8   tipo_ensino             6502 non-null   object\n",
            " 9   treineiro               12956 non-null  object\n",
            " 10  municipio_prova         12956 non-null  object\n",
            " 11  uf_prova                12956 non-null  object\n",
            " 12  dependencia_adm_escola  2208 non-null   object\n",
            " 13  localizacao_escola      2208 non-null   object\n",
            "dtypes: int64(2), object(12)\n",
            "memory usage: 1.4+ MB\n"
          ]
        }
      ]
    },
    {
      "cell_type": "code",
      "source": [
        "list(df.columns)\n",
        "# listando as colunas - de forma organizada"
      ],
      "metadata": {
        "colab": {
          "base_uri": "https://localhost:8080/"
        },
        "id": "3hxKhOxbkacS",
        "outputId": "d6267305-c1e5-4228-9b5f-e15266161388"
      },
      "execution_count": null,
      "outputs": [
        {
          "output_type": "execute_result",
          "data": {
            "text/plain": [
              "['inscricao',\n",
              " 'ano',\n",
              " 'faixa_etaria',\n",
              " 'sexo',\n",
              " 'estado_civil',\n",
              " 'cor_raca',\n",
              " 'nacionalidade',\n",
              " 'tipo_escola',\n",
              " 'tipo_ensino',\n",
              " 'treineiro',\n",
              " 'municipio_prova',\n",
              " 'uf_prova',\n",
              " 'dependencia_adm_escola',\n",
              " 'localizacao_escola']"
            ]
          },
          "metadata": {},
          "execution_count": 18
        }
      ]
    },
    {
      "cell_type": "code",
      "source": [
        "# Filtrar apenas os registros de Roraima (SG_UF_PROVA == 'RR')\n",
        "# Dados já filtrados"
      ],
      "metadata": {
        "id": "uBwwdPNDkczM"
      },
      "execution_count": null,
      "outputs": []
    },
    {
      "cell_type": "code",
      "source": [
        "# lista das colunas que vão ficar, as demais vão ser dropadas (mesmas colunas de 2024)\n",
        "# em 2023 fiz dic de colunas para remover, aqui fiz o inverso (mais fácil) para não errar\n",
        "\n",
        "colunas_desejadas = [\n",
        "    'NU_INSCRICAO',\n",
        "    'NU_ANO',\n",
        "    'TP_FAIXA_ETARIA',\n",
        "    'TP_SEXO',\n",
        "    'TP_ESTADO_CIVIL',\n",
        "    'TP_COR_RACA',\n",
        "    'TP_NACIONALIDADE',\n",
        "    'TP_ESCOLA',\n",
        "    'TP_ENSINO',\n",
        "    'IN_TREINEIRO',\n",
        "    'NO_MUNICIPIO_PROVA',\n",
        "    'SG_UF_PROVA',\n",
        "    'TP_DEPENDENCIA_ADM_ESC',\n",
        "    'TP_LOCALIZACAO_ESC'\n",
        "]\n",
        "\n",
        "df_limpo = df[colunas_desejadas]"
      ],
      "metadata": {
        "id": "QBviJf9bkhWC",
        "colab": {
          "base_uri": "https://localhost:8080/",
          "height": 418
        },
        "outputId": "e6088daa-a409-41f1-8a6c-d2c9dd5b2710"
      },
      "execution_count": null,
      "outputs": [
        {
          "output_type": "error",
          "ename": "KeyError",
          "evalue": "\"None of [Index(['NU_INSCRICAO', 'NU_ANO', 'TP_FAIXA_ETARIA', 'TP_SEXO',\\n       'TP_ESTADO_CIVIL', 'TP_COR_RACA', 'TP_NACIONALIDADE', 'TP_ESCOLA',\\n       'TP_ENSINO', 'IN_TREINEIRO', 'NO_MUNICIPIO_PROVA', 'SG_UF_PROVA',\\n       'TP_DEPENDENCIA_ADM_ESC', 'TP_LOCALIZACAO_ESC'],\\n      dtype='object')] are in the [columns]\"",
          "traceback": [
            "\u001b[0;31m---------------------------------------------------------------------------\u001b[0m",
            "\u001b[0;31mKeyError\u001b[0m                                  Traceback (most recent call last)",
            "\u001b[0;32m/tmp/ipython-input-97193830.py\u001b[0m in \u001b[0;36m<cell line: 0>\u001b[0;34m()\u001b[0m\n\u001b[1;32m     19\u001b[0m ]\n\u001b[1;32m     20\u001b[0m \u001b[0;34m\u001b[0m\u001b[0m\n\u001b[0;32m---> 21\u001b[0;31m \u001b[0mdf_limpo\u001b[0m \u001b[0;34m=\u001b[0m \u001b[0mdf\u001b[0m\u001b[0;34m[\u001b[0m\u001b[0mcolunas_desejadas\u001b[0m\u001b[0;34m]\u001b[0m\u001b[0;34m\u001b[0m\u001b[0;34m\u001b[0m\u001b[0m\n\u001b[0m",
            "\u001b[0;32m/usr/local/lib/python3.12/dist-packages/pandas/core/frame.py\u001b[0m in \u001b[0;36m__getitem__\u001b[0;34m(self, key)\u001b[0m\n\u001b[1;32m   4106\u001b[0m             \u001b[0;32mif\u001b[0m \u001b[0mis_iterator\u001b[0m\u001b[0;34m(\u001b[0m\u001b[0mkey\u001b[0m\u001b[0;34m)\u001b[0m\u001b[0;34m:\u001b[0m\u001b[0;34m\u001b[0m\u001b[0;34m\u001b[0m\u001b[0m\n\u001b[1;32m   4107\u001b[0m                 \u001b[0mkey\u001b[0m \u001b[0;34m=\u001b[0m \u001b[0mlist\u001b[0m\u001b[0;34m(\u001b[0m\u001b[0mkey\u001b[0m\u001b[0;34m)\u001b[0m\u001b[0;34m\u001b[0m\u001b[0;34m\u001b[0m\u001b[0m\n\u001b[0;32m-> 4108\u001b[0;31m             \u001b[0mindexer\u001b[0m \u001b[0;34m=\u001b[0m \u001b[0mself\u001b[0m\u001b[0;34m.\u001b[0m\u001b[0mcolumns\u001b[0m\u001b[0;34m.\u001b[0m\u001b[0m_get_indexer_strict\u001b[0m\u001b[0;34m(\u001b[0m\u001b[0mkey\u001b[0m\u001b[0;34m,\u001b[0m \u001b[0;34m\"columns\"\u001b[0m\u001b[0;34m)\u001b[0m\u001b[0;34m[\u001b[0m\u001b[0;36m1\u001b[0m\u001b[0;34m]\u001b[0m\u001b[0;34m\u001b[0m\u001b[0;34m\u001b[0m\u001b[0m\n\u001b[0m\u001b[1;32m   4109\u001b[0m \u001b[0;34m\u001b[0m\u001b[0m\n\u001b[1;32m   4110\u001b[0m         \u001b[0;31m# take() does not accept boolean indexers\u001b[0m\u001b[0;34m\u001b[0m\u001b[0;34m\u001b[0m\u001b[0m\n",
            "\u001b[0;32m/usr/local/lib/python3.12/dist-packages/pandas/core/indexes/base.py\u001b[0m in \u001b[0;36m_get_indexer_strict\u001b[0;34m(self, key, axis_name)\u001b[0m\n\u001b[1;32m   6198\u001b[0m             \u001b[0mkeyarr\u001b[0m\u001b[0;34m,\u001b[0m \u001b[0mindexer\u001b[0m\u001b[0;34m,\u001b[0m \u001b[0mnew_indexer\u001b[0m \u001b[0;34m=\u001b[0m \u001b[0mself\u001b[0m\u001b[0;34m.\u001b[0m\u001b[0m_reindex_non_unique\u001b[0m\u001b[0;34m(\u001b[0m\u001b[0mkeyarr\u001b[0m\u001b[0;34m)\u001b[0m\u001b[0;34m\u001b[0m\u001b[0;34m\u001b[0m\u001b[0m\n\u001b[1;32m   6199\u001b[0m \u001b[0;34m\u001b[0m\u001b[0m\n\u001b[0;32m-> 6200\u001b[0;31m         \u001b[0mself\u001b[0m\u001b[0;34m.\u001b[0m\u001b[0m_raise_if_missing\u001b[0m\u001b[0;34m(\u001b[0m\u001b[0mkeyarr\u001b[0m\u001b[0;34m,\u001b[0m \u001b[0mindexer\u001b[0m\u001b[0;34m,\u001b[0m \u001b[0maxis_name\u001b[0m\u001b[0;34m)\u001b[0m\u001b[0;34m\u001b[0m\u001b[0;34m\u001b[0m\u001b[0m\n\u001b[0m\u001b[1;32m   6201\u001b[0m \u001b[0;34m\u001b[0m\u001b[0m\n\u001b[1;32m   6202\u001b[0m         \u001b[0mkeyarr\u001b[0m \u001b[0;34m=\u001b[0m \u001b[0mself\u001b[0m\u001b[0;34m.\u001b[0m\u001b[0mtake\u001b[0m\u001b[0;34m(\u001b[0m\u001b[0mindexer\u001b[0m\u001b[0;34m)\u001b[0m\u001b[0;34m\u001b[0m\u001b[0;34m\u001b[0m\u001b[0m\n",
            "\u001b[0;32m/usr/local/lib/python3.12/dist-packages/pandas/core/indexes/base.py\u001b[0m in \u001b[0;36m_raise_if_missing\u001b[0;34m(self, key, indexer, axis_name)\u001b[0m\n\u001b[1;32m   6247\u001b[0m         \u001b[0;32mif\u001b[0m \u001b[0mnmissing\u001b[0m\u001b[0;34m:\u001b[0m\u001b[0;34m\u001b[0m\u001b[0;34m\u001b[0m\u001b[0m\n\u001b[1;32m   6248\u001b[0m             \u001b[0;32mif\u001b[0m \u001b[0mnmissing\u001b[0m \u001b[0;34m==\u001b[0m \u001b[0mlen\u001b[0m\u001b[0;34m(\u001b[0m\u001b[0mindexer\u001b[0m\u001b[0;34m)\u001b[0m\u001b[0;34m:\u001b[0m\u001b[0;34m\u001b[0m\u001b[0;34m\u001b[0m\u001b[0m\n\u001b[0;32m-> 6249\u001b[0;31m                 \u001b[0;32mraise\u001b[0m \u001b[0mKeyError\u001b[0m\u001b[0;34m(\u001b[0m\u001b[0;34mf\"None of [{key}] are in the [{axis_name}]\"\u001b[0m\u001b[0;34m)\u001b[0m\u001b[0;34m\u001b[0m\u001b[0;34m\u001b[0m\u001b[0m\n\u001b[0m\u001b[1;32m   6250\u001b[0m \u001b[0;34m\u001b[0m\u001b[0m\n\u001b[1;32m   6251\u001b[0m             \u001b[0mnot_found\u001b[0m \u001b[0;34m=\u001b[0m \u001b[0mlist\u001b[0m\u001b[0;34m(\u001b[0m\u001b[0mensure_index\u001b[0m\u001b[0;34m(\u001b[0m\u001b[0mkey\u001b[0m\u001b[0;34m)\u001b[0m\u001b[0;34m[\u001b[0m\u001b[0mmissing_mask\u001b[0m\u001b[0;34m.\u001b[0m\u001b[0mnonzero\u001b[0m\u001b[0;34m(\u001b[0m\u001b[0;34m)\u001b[0m\u001b[0;34m[\u001b[0m\u001b[0;36m0\u001b[0m\u001b[0;34m]\u001b[0m\u001b[0;34m]\u001b[0m\u001b[0;34m.\u001b[0m\u001b[0munique\u001b[0m\u001b[0;34m(\u001b[0m\u001b[0;34m)\u001b[0m\u001b[0;34m)\u001b[0m\u001b[0;34m\u001b[0m\u001b[0;34m\u001b[0m\u001b[0m\n",
            "\u001b[0;31mKeyError\u001b[0m: \"None of [Index(['NU_INSCRICAO', 'NU_ANO', 'TP_FAIXA_ETARIA', 'TP_SEXO',\\n       'TP_ESTADO_CIVIL', 'TP_COR_RACA', 'TP_NACIONALIDADE', 'TP_ESCOLA',\\n       'TP_ENSINO', 'IN_TREINEIRO', 'NO_MUNICIPIO_PROVA', 'SG_UF_PROVA',\\n       'TP_DEPENDENCIA_ADM_ESC', 'TP_LOCALIZACAO_ESC'],\\n      dtype='object')] are in the [columns]\""
          ]
        }
      ]
    },
    {
      "cell_type": "markdown",
      "source": [
        "# **Base de Dados - Transformação**"
      ],
      "metadata": {
        "id": "VrNwXSKVsbZr"
      }
    },
    {
      "cell_type": "code",
      "source": [
        "df_limpo.head()"
      ],
      "metadata": {
        "id": "TYm6eAOWsgGg"
      },
      "execution_count": null,
      "outputs": []
    },
    {
      "cell_type": "code",
      "source": [
        "# Dicionário de mapeamento\n",
        "faixa_etaria_map = {\n",
        "    1: \"Menor de 17 anos\",\n",
        "    2: \"17 anos\",\n",
        "    3: \"18 anos\",\n",
        "    4: \"19 anos\",\n",
        "    5: \"20 anos\",\n",
        "    6: \"21 anos\",\n",
        "    7: \"22 anos\",\n",
        "    8: \"23 anos\",\n",
        "    9: \"24 anos\",\n",
        "    10: \"25 anos\",\n",
        "    11: \"Entre 26 e 30 anos\",\n",
        "    12: \"Entre 31 e 35 anos\",\n",
        "    13: \"Entre 36 e 40 anos\",\n",
        "    14: \"Entre 41 e 45 anos\",\n",
        "    15: \"Entre 46 e 50 anos\",\n",
        "    16: \"Entre 51 e 55 anos\",\n",
        "    17: \"Entre 56 e 60 anos\",\n",
        "    18: \"Entre 61 e 65 anos\",\n",
        "    19: \"Entre 66 e 70 anos\",\n",
        "    20: \"Maior de 70 anos\"\n",
        "}\n",
        "\n",
        "# substituir categoria pela descrição\n",
        "df_limpo['TP_FAIXA_ETARIA'] = df_limpo['TP_FAIXA_ETARIA'].map(faixa_etaria_map)\n",
        "\n",
        "df_limpo[['TP_FAIXA_ETARIA']].head()"
      ],
      "metadata": {
        "id": "emNNy2lkskGk"
      },
      "execution_count": null,
      "outputs": []
    },
    {
      "cell_type": "code",
      "source": [
        "# dic de mapeamento\n",
        "mapeamento_estado_civil = {\n",
        "    0: \"Não informado\",\n",
        "    1: \"Solteiro(a)\",\n",
        "    2: \"Casado(a)/Mora com companheiro(a)\",\n",
        "    3: \"Divorciado(a)/Desquitado(a)/Separado(a)\",\n",
        "    4: \"Viúvo(a)\"\n",
        "}\n",
        "\n",
        "\n",
        "df_limpo['TP_ESTADO_CIVIL'] = df_limpo['TP_ESTADO_CIVIL'].map(mapeamento_estado_civil)"
      ],
      "metadata": {
        "id": "EwEsoMQzsmWB"
      },
      "execution_count": null,
      "outputs": []
    },
    {
      "cell_type": "code",
      "source": [
        "df_limpo.head()"
      ],
      "metadata": {
        "id": "rtA3AFW0sq9V"
      },
      "execution_count": null,
      "outputs": []
    },
    {
      "cell_type": "code",
      "source": [
        "# dicionário de mapeamento\n",
        "mapeamento_cor = {\n",
        "    0: \"Não declarado\",\n",
        "    1: \"Branca\",\n",
        "    2: \"Preta\",\n",
        "    3: \"Parda\",\n",
        "    4: \"Amarela\",\n",
        "    5: \"Indígena\",\n",
        "    6: \"Não dispõe da informação\"\n",
        "}\n",
        "\n",
        "# substituição\n",
        "df_limpo['TP_COR_RACA'] = df_limpo['TP_COR_RACA'].map(mapeamento_cor)\n",
        "\n",
        "df_limpo['TP_COR_RACA'].value_counts()"
      ],
      "metadata": {
        "id": "xHKe4KWIss2i"
      },
      "execution_count": null,
      "outputs": []
    },
    {
      "cell_type": "code",
      "source": [
        "df_limpo['TP_COR_RACA'].value_counts()"
      ],
      "metadata": {
        "id": "XX0gib-osuD_"
      },
      "execution_count": null,
      "outputs": []
    },
    {
      "cell_type": "code",
      "source": [
        "df_limpo.head()"
      ],
      "metadata": {
        "id": "3G5n4VOEsxAD"
      },
      "execution_count": null,
      "outputs": []
    },
    {
      "cell_type": "code",
      "source": [
        "# dicionário de mapeamento\n",
        "mapeamento_nacionalidade = {\n",
        "    0: \"Não informado\",\n",
        "    1: \"Brasileiro(a)\",\n",
        "    2: \"Brasileiro(a) Naturalizado(a)\",\n",
        "    3: \"Estrangeiro(a)\",\n",
        "    4: \"Brasileiro(a) Nato(a), nascido(a) no exterior\"\n",
        "}\n",
        "\n",
        "# substituição\n",
        "df_limpo['TP_NACIONALIDADE'] = df_limpo['TP_NACIONALIDADE'].map(mapeamento_nacionalidade)"
      ],
      "metadata": {
        "id": "2dFFXVausybg"
      },
      "execution_count": null,
      "outputs": []
    },
    {
      "cell_type": "code",
      "source": [
        "# dicionário de mapeamento\n",
        "mapeamento_escola = {\n",
        "    1: 'Não Respondeu',\n",
        "    2: 'Pública',\n",
        "    3: 'Privada'\n",
        "}\n",
        "\n",
        "# Substituir os valores numéricos pelos textos\n",
        "df_limpo['TP_ESCOLA'] = df_limpo['TP_ESCOLA'].map(mapeamento_escola)\n"
      ],
      "metadata": {
        "id": "Je2CoKiiszi7"
      },
      "execution_count": null,
      "outputs": []
    },
    {
      "cell_type": "code",
      "source": [
        "# distribuição de cada coluna\n",
        "print(df_limpo['TP_ESCOLA'].value_counts())"
      ],
      "metadata": {
        "id": "k43Mrf5fs0xt"
      },
      "execution_count": null,
      "outputs": []
    },
    {
      "cell_type": "code",
      "source": [
        "df_limpo['TP_COR_RACA'].value_counts()"
      ],
      "metadata": {
        "id": "zJGFjEyPs2U6"
      },
      "execution_count": null,
      "outputs": []
    },
    {
      "cell_type": "code",
      "source": [
        "mapeamento_dependencia = {\n",
        "    1: 'Federal',\n",
        "    2: 'Estadual',\n",
        "    3: 'Municipal',\n",
        "    4: 'Privada'\n",
        "}\n",
        "\n",
        "df_limpo['TP_DEPENDENCIA_ADM_ESC'] = df_limpo['TP_DEPENDENCIA_ADM_ESC'].map(mapeamento_dependencia)\n"
      ],
      "metadata": {
        "id": "OzwhOwIts6Gu"
      },
      "execution_count": null,
      "outputs": []
    },
    {
      "cell_type": "code",
      "source": [
        "# distribuição de cada coluna\n",
        "print(df_limpo['TP_DEPENDENCIA_ADM_ESC'].value_counts())"
      ],
      "metadata": {
        "id": "37MbdZaqs7Zm"
      },
      "execution_count": null,
      "outputs": []
    },
    {
      "cell_type": "code",
      "source": [
        "df_limpo.head()"
      ],
      "metadata": {
        "id": "2q4tWQFxs8fA"
      },
      "execution_count": null,
      "outputs": []
    },
    {
      "cell_type": "code",
      "source": [
        "# mapeamento TP_ENSINO\n",
        "mapeamento_ensino = {\n",
        "    1: \"Ensino Regular\",\n",
        "    2: \"Educação Especial - Modalidade Substitutiva\"\n",
        "}\n",
        "\n",
        "df_limpo['TP_ENSINO'] = df_limpo['TP_ENSINO'].map(mapeamento_ensino)\n",
        "\n",
        "\n",
        "\n",
        "# mapeamento IN_TREINEIRO\n",
        "mapeamento_treineiro = {\n",
        "    1: \"Sim\",\n",
        "    0: \"Não\"\n",
        "}\n",
        "\n",
        "df_limpo['IN_TREINEIRO'] = df_limpo['IN_TREINEIRO'].map(mapeamento_treineiro)"
      ],
      "metadata": {
        "id": "JJhViwhas9lP"
      },
      "execution_count": null,
      "outputs": []
    },
    {
      "cell_type": "code",
      "source": [
        "# distribuição de cada coluna\n",
        "print(df_limpo['TP_ENSINO'].value_counts())\n",
        "print(df_limpo['IN_TREINEIRO'].value_counts())"
      ],
      "metadata": {
        "id": "WBBbUx3Cs_CN"
      },
      "execution_count": null,
      "outputs": []
    },
    {
      "cell_type": "code",
      "source": [
        "mapa_localizacao = {\n",
        "    1: 'Urbana',\n",
        "    2: 'Rural'\n",
        "}\n",
        "\n",
        "df_limpo['TP_LOCALIZACAO_ESC'] = df_limpo['TP_LOCALIZACAO_ESC'].map(mapa_localizacao)"
      ],
      "metadata": {
        "id": "-PZx7W6stAaj"
      },
      "execution_count": null,
      "outputs": []
    },
    {
      "cell_type": "code",
      "source": [
        "print(df_limpo['TP_LOCALIZACAO_ESC'].value_counts())"
      ],
      "metadata": {
        "id": "tT8XdQ3FtB7a"
      },
      "execution_count": null,
      "outputs": []
    },
    {
      "cell_type": "code",
      "source": [
        "# distribuição de cada coluna\n",
        "print(df_limpo['TP_LOCALIZACAO_ESC'].value_counts())"
      ],
      "metadata": {
        "id": "WB_w3TTdtFXj"
      },
      "execution_count": null,
      "outputs": []
    },
    {
      "cell_type": "code",
      "source": [
        "print(df_limpo['TP_DEPENDENCIA_ADM_ESC'].value_counts())"
      ],
      "metadata": {
        "id": "mLKh02rgtHrj"
      },
      "execution_count": null,
      "outputs": []
    },
    {
      "cell_type": "code",
      "source": [
        "df_limpo.head()"
      ],
      "metadata": {
        "id": "JlPFtEH6tJB7"
      },
      "execution_count": null,
      "outputs": []
    },
    {
      "cell_type": "code",
      "source": [
        "df_limpo.shape\n",
        "# (linhas, colunas)"
      ],
      "metadata": {
        "id": "2Cl6CYh8tKl-"
      },
      "execution_count": null,
      "outputs": []
    },
    {
      "cell_type": "code",
      "source": [
        "# Dicionário de renomeação\n",
        "novos_nomes = {\n",
        "    'NU_INSCRICAO': 'inscricao',\n",
        "    'NU_ANO': 'ano',\n",
        "    'TP_FAIXA_ETARIA': 'faixa_etaria',\n",
        "    'TP_SEXO': 'sexo',\n",
        "    'TP_ESTADO_CIVIL': 'estado_civil',\n",
        "    'TP_COR_RACA': 'cor_raca',\n",
        "    'TP_NACIONALIDADE': 'nacionalidade',\n",
        "    'TP_ESCOLA': 'tipo_escola',\n",
        "    'TP_ENSINO': 'tipo_ensino',\n",
        "    'IN_TREINEIRO': 'treineiro',\n",
        "    'NO_MUNICIPIO_PROVA': 'municipio_prova',\n",
        "    'SG_UF_PROVA': 'uf_prova',\n",
        "    'TP_DEPENDENCIA_ADM_ESC': 'dependencia_adm_escola',\n",
        "    'TP_LOCALIZACAO_ESC': 'localizacao_escola'\n",
        "}\n",
        "\n",
        "# nova variavel para novo dataset\n",
        "# df → df_limpo → df_limpo_rr\n",
        "df_limpo_rr = df_limpo.rename(columns=novos_nomes)\n",
        "\n",
        "# ver as novas colunas\n",
        "df_limpo_rr.columns"
      ],
      "metadata": {
        "id": "eSmYBcuJtLzU"
      },
      "execution_count": null,
      "outputs": []
    },
    {
      "cell_type": "code",
      "source": [
        "df_limpo_rr.head()"
      ],
      "metadata": {
        "id": "r7nS0ftFtNFr"
      },
      "execution_count": null,
      "outputs": []
    },
    {
      "cell_type": "code",
      "source": [
        "df_limpo_rr['tipo_ensino'].value_counts()"
      ],
      "metadata": {
        "id": "NzydUTMRtO9m"
      },
      "execution_count": null,
      "outputs": []
    },
    {
      "cell_type": "code",
      "source": [
        "df_limpo_rr['dependencia_adm_escola'].value_counts()"
      ],
      "metadata": {
        "id": "-_ke5-B3tQVH"
      },
      "execution_count": null,
      "outputs": []
    },
    {
      "cell_type": "code",
      "source": [
        "df_limpo_rr['localizacao_escola'].value_counts()\n"
      ],
      "metadata": {
        "id": "WyGtRdhUtSjg"
      },
      "execution_count": null,
      "outputs": []
    },
    {
      "cell_type": "markdown",
      "source": [
        "## **Base de Dados Limpa - Salvamento**"
      ],
      "metadata": {
        "id": "kEK4hXpJtVQF"
      }
    },
    {
      "cell_type": "code",
      "source": [
        "pasta_destino = '/content/drive/MyDrive/Dados_2019/'\n",
        "\n",
        "# nome do arquivo .csv lá na pasta destino\n",
        "arquivo_destino = pasta_destino + '/enem2019_rr_limpo.csv'\n",
        "\n",
        "# df_limpo_rr vai ser salvo em .cvs\n",
        "df_limpo_rr.to_csv(arquivo_destino, index=False, sep=';', encoding='utf-8')\n",
        "\n",
        "print(f\"Arquivo salvo em: {arquivo_destino}\")"
      ],
      "metadata": {
        "id": "oxCYvnMXtVLD"
      },
      "execution_count": null,
      "outputs": []
    }
  ]
}